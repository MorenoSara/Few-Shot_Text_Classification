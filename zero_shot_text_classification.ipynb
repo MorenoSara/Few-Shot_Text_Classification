{
  "nbformat": 4,
  "nbformat_minor": 0,
  "metadata": {
    "colab": {
      "name": "zero-shot_text_classification.ipynb",
      "provenance": [],
      "authorship_tag": "ABX9TyMzcPJzhw1ddwiL2pGcRNTY",
      "include_colab_link": true
    },
    "kernelspec": {
      "name": "python3",
      "display_name": "Python 3"
    },
    "language_info": {
      "name": "python"
    },
    "accelerator": "GPU",
    "widgets": {
      "application/vnd.jupyter.widget-state+json": {
        "8efae61f2f934399ac26393f7fe68efc": {
          "model_module": "@jupyter-widgets/controls",
          "model_name": "HBoxModel",
          "model_module_version": "1.5.0",
          "state": {
            "_dom_classes": [],
            "_model_module": "@jupyter-widgets/controls",
            "_model_module_version": "1.5.0",
            "_model_name": "HBoxModel",
            "_view_count": null,
            "_view_module": "@jupyter-widgets/controls",
            "_view_module_version": "1.5.0",
            "_view_name": "HBoxView",
            "box_style": "",
            "children": [
              "IPY_MODEL_bb0ded289e37447fa4b4d18939364b9f",
              "IPY_MODEL_23dabb9fefbb458d87c20d6b078e0cdc",
              "IPY_MODEL_0829109f39d74925a99d9540b370b20f"
            ],
            "layout": "IPY_MODEL_ec81fc0a837f4e86aa2d48bd2f9c0494"
          }
        },
        "bb0ded289e37447fa4b4d18939364b9f": {
          "model_module": "@jupyter-widgets/controls",
          "model_name": "HTMLModel",
          "model_module_version": "1.5.0",
          "state": {
            "_dom_classes": [],
            "_model_module": "@jupyter-widgets/controls",
            "_model_module_version": "1.5.0",
            "_model_name": "HTMLModel",
            "_view_count": null,
            "_view_module": "@jupyter-widgets/controls",
            "_view_module_version": "1.5.0",
            "_view_name": "HTMLView",
            "description": "",
            "description_tooltip": null,
            "layout": "IPY_MODEL_01be3016b89c4bf4adf41fec808837e1",
            "placeholder": "​",
            "style": "IPY_MODEL_42e30984d3f5469d86d5d74bae41aaaa",
            "value": "Batches: 100%"
          }
        },
        "23dabb9fefbb458d87c20d6b078e0cdc": {
          "model_module": "@jupyter-widgets/controls",
          "model_name": "FloatProgressModel",
          "model_module_version": "1.5.0",
          "state": {
            "_dom_classes": [],
            "_model_module": "@jupyter-widgets/controls",
            "_model_module_version": "1.5.0",
            "_model_name": "FloatProgressModel",
            "_view_count": null,
            "_view_module": "@jupyter-widgets/controls",
            "_view_module_version": "1.5.0",
            "_view_name": "ProgressView",
            "bar_style": "success",
            "description": "",
            "description_tooltip": null,
            "layout": "IPY_MODEL_2ab1cb18c21149789c0678280aadc292",
            "max": 37,
            "min": 0,
            "orientation": "horizontal",
            "style": "IPY_MODEL_17b0ff94a27049fcbcbc5205074f7d2b",
            "value": 37
          }
        },
        "0829109f39d74925a99d9540b370b20f": {
          "model_module": "@jupyter-widgets/controls",
          "model_name": "HTMLModel",
          "model_module_version": "1.5.0",
          "state": {
            "_dom_classes": [],
            "_model_module": "@jupyter-widgets/controls",
            "_model_module_version": "1.5.0",
            "_model_name": "HTMLModel",
            "_view_count": null,
            "_view_module": "@jupyter-widgets/controls",
            "_view_module_version": "1.5.0",
            "_view_name": "HTMLView",
            "description": "",
            "description_tooltip": null,
            "layout": "IPY_MODEL_46bd13240af1431bb29af3fa393202c7",
            "placeholder": "​",
            "style": "IPY_MODEL_44875ff9eae944feb89b62a8fc1062d6",
            "value": " 37/37 [06:34&lt;00:00,  5.70s/it]"
          }
        },
        "ec81fc0a837f4e86aa2d48bd2f9c0494": {
          "model_module": "@jupyter-widgets/base",
          "model_name": "LayoutModel",
          "model_module_version": "1.2.0",
          "state": {
            "_model_module": "@jupyter-widgets/base",
            "_model_module_version": "1.2.0",
            "_model_name": "LayoutModel",
            "_view_count": null,
            "_view_module": "@jupyter-widgets/base",
            "_view_module_version": "1.2.0",
            "_view_name": "LayoutView",
            "align_content": null,
            "align_items": null,
            "align_self": null,
            "border": null,
            "bottom": null,
            "display": null,
            "flex": null,
            "flex_flow": null,
            "grid_area": null,
            "grid_auto_columns": null,
            "grid_auto_flow": null,
            "grid_auto_rows": null,
            "grid_column": null,
            "grid_gap": null,
            "grid_row": null,
            "grid_template_areas": null,
            "grid_template_columns": null,
            "grid_template_rows": null,
            "height": null,
            "justify_content": null,
            "justify_items": null,
            "left": null,
            "margin": null,
            "max_height": null,
            "max_width": null,
            "min_height": null,
            "min_width": null,
            "object_fit": null,
            "object_position": null,
            "order": null,
            "overflow": null,
            "overflow_x": null,
            "overflow_y": null,
            "padding": null,
            "right": null,
            "top": null,
            "visibility": null,
            "width": null
          }
        },
        "01be3016b89c4bf4adf41fec808837e1": {
          "model_module": "@jupyter-widgets/base",
          "model_name": "LayoutModel",
          "model_module_version": "1.2.0",
          "state": {
            "_model_module": "@jupyter-widgets/base",
            "_model_module_version": "1.2.0",
            "_model_name": "LayoutModel",
            "_view_count": null,
            "_view_module": "@jupyter-widgets/base",
            "_view_module_version": "1.2.0",
            "_view_name": "LayoutView",
            "align_content": null,
            "align_items": null,
            "align_self": null,
            "border": null,
            "bottom": null,
            "display": null,
            "flex": null,
            "flex_flow": null,
            "grid_area": null,
            "grid_auto_columns": null,
            "grid_auto_flow": null,
            "grid_auto_rows": null,
            "grid_column": null,
            "grid_gap": null,
            "grid_row": null,
            "grid_template_areas": null,
            "grid_template_columns": null,
            "grid_template_rows": null,
            "height": null,
            "justify_content": null,
            "justify_items": null,
            "left": null,
            "margin": null,
            "max_height": null,
            "max_width": null,
            "min_height": null,
            "min_width": null,
            "object_fit": null,
            "object_position": null,
            "order": null,
            "overflow": null,
            "overflow_x": null,
            "overflow_y": null,
            "padding": null,
            "right": null,
            "top": null,
            "visibility": null,
            "width": null
          }
        },
        "42e30984d3f5469d86d5d74bae41aaaa": {
          "model_module": "@jupyter-widgets/controls",
          "model_name": "DescriptionStyleModel",
          "model_module_version": "1.5.0",
          "state": {
            "_model_module": "@jupyter-widgets/controls",
            "_model_module_version": "1.5.0",
            "_model_name": "DescriptionStyleModel",
            "_view_count": null,
            "_view_module": "@jupyter-widgets/base",
            "_view_module_version": "1.2.0",
            "_view_name": "StyleView",
            "description_width": ""
          }
        },
        "2ab1cb18c21149789c0678280aadc292": {
          "model_module": "@jupyter-widgets/base",
          "model_name": "LayoutModel",
          "model_module_version": "1.2.0",
          "state": {
            "_model_module": "@jupyter-widgets/base",
            "_model_module_version": "1.2.0",
            "_model_name": "LayoutModel",
            "_view_count": null,
            "_view_module": "@jupyter-widgets/base",
            "_view_module_version": "1.2.0",
            "_view_name": "LayoutView",
            "align_content": null,
            "align_items": null,
            "align_self": null,
            "border": null,
            "bottom": null,
            "display": null,
            "flex": null,
            "flex_flow": null,
            "grid_area": null,
            "grid_auto_columns": null,
            "grid_auto_flow": null,
            "grid_auto_rows": null,
            "grid_column": null,
            "grid_gap": null,
            "grid_row": null,
            "grid_template_areas": null,
            "grid_template_columns": null,
            "grid_template_rows": null,
            "height": null,
            "justify_content": null,
            "justify_items": null,
            "left": null,
            "margin": null,
            "max_height": null,
            "max_width": null,
            "min_height": null,
            "min_width": null,
            "object_fit": null,
            "object_position": null,
            "order": null,
            "overflow": null,
            "overflow_x": null,
            "overflow_y": null,
            "padding": null,
            "right": null,
            "top": null,
            "visibility": null,
            "width": null
          }
        },
        "17b0ff94a27049fcbcbc5205074f7d2b": {
          "model_module": "@jupyter-widgets/controls",
          "model_name": "ProgressStyleModel",
          "model_module_version": "1.5.0",
          "state": {
            "_model_module": "@jupyter-widgets/controls",
            "_model_module_version": "1.5.0",
            "_model_name": "ProgressStyleModel",
            "_view_count": null,
            "_view_module": "@jupyter-widgets/base",
            "_view_module_version": "1.2.0",
            "_view_name": "StyleView",
            "bar_color": null,
            "description_width": ""
          }
        },
        "46bd13240af1431bb29af3fa393202c7": {
          "model_module": "@jupyter-widgets/base",
          "model_name": "LayoutModel",
          "model_module_version": "1.2.0",
          "state": {
            "_model_module": "@jupyter-widgets/base",
            "_model_module_version": "1.2.0",
            "_model_name": "LayoutModel",
            "_view_count": null,
            "_view_module": "@jupyter-widgets/base",
            "_view_module_version": "1.2.0",
            "_view_name": "LayoutView",
            "align_content": null,
            "align_items": null,
            "align_self": null,
            "border": null,
            "bottom": null,
            "display": null,
            "flex": null,
            "flex_flow": null,
            "grid_area": null,
            "grid_auto_columns": null,
            "grid_auto_flow": null,
            "grid_auto_rows": null,
            "grid_column": null,
            "grid_gap": null,
            "grid_row": null,
            "grid_template_areas": null,
            "grid_template_columns": null,
            "grid_template_rows": null,
            "height": null,
            "justify_content": null,
            "justify_items": null,
            "left": null,
            "margin": null,
            "max_height": null,
            "max_width": null,
            "min_height": null,
            "min_width": null,
            "object_fit": null,
            "object_position": null,
            "order": null,
            "overflow": null,
            "overflow_x": null,
            "overflow_y": null,
            "padding": null,
            "right": null,
            "top": null,
            "visibility": null,
            "width": null
          }
        },
        "44875ff9eae944feb89b62a8fc1062d6": {
          "model_module": "@jupyter-widgets/controls",
          "model_name": "DescriptionStyleModel",
          "model_module_version": "1.5.0",
          "state": {
            "_model_module": "@jupyter-widgets/controls",
            "_model_module_version": "1.5.0",
            "_model_name": "DescriptionStyleModel",
            "_view_count": null,
            "_view_module": "@jupyter-widgets/base",
            "_view_module_version": "1.2.0",
            "_view_name": "StyleView",
            "description_width": ""
          }
        }
      }
    }
  },
  "cells": [
    {
      "cell_type": "markdown",
      "metadata": {
        "id": "view-in-github",
        "colab_type": "text"
      },
      "source": [
        "<a href=\"https://colab.research.google.com/github/MorenoSara/Few-Shot_Text_Classification/blob/main/zero_shot_text_classification.ipynb\" target=\"_parent\"><img src=\"https://colab.research.google.com/assets/colab-badge.svg\" alt=\"Open In Colab\"/></a>"
      ]
    },
    {
      "cell_type": "code",
      "source": [
        "!pip install -U sentence-transformers"
      ],
      "metadata": {
        "id": "ndnkP7Q7EPS4"
      },
      "execution_count": null,
      "outputs": []
    },
    {
      "cell_type": "code",
      "execution_count": null,
      "metadata": {
        "id": "RZtz7iJEuToU"
      },
      "outputs": [],
      "source": [
        "import pandas as pd\n",
        "from sentence_transformers import SentenceTransformer\n",
        "import torch\n",
        "from sentence_transformers.util import cos_sim\n",
        "import numpy as np\n",
        "\n",
        "device = torch.device(\"cuda\" if torch.cuda.is_available() else \"cpu\")"
      ]
    },
    {
      "cell_type": "code",
      "source": [
        "test_dataset = pd.read_excel('test.xlsx', index_col=0) # 32889 samples\n",
        "test_dataset.head()"
      ],
      "metadata": {
        "colab": {
          "base_uri": "https://localhost:8080/",
          "height": 206
        },
        "id": "vaBm1Y9UvFUf",
        "outputId": "16167f95-9d1a-43a5-cf95-c2d1172de595"
      },
      "execution_count": null,
      "outputs": [
        {
          "output_type": "execute_result",
          "data": {
            "text/plain": [
              "       Y1  Y2    Y         Domain                   area  \\\n",
              "37587   0  16   16            CS        Bioinformatics     \n",
              "37588   2   4   37   Psychology     Prosocial behavior     \n",
              "37589   5  15   87       Medical              Diabetes     \n",
              "37590   2  15   48   Psychology           Gender roles     \n",
              "37591   6   0  125  biochemistry     Molecular biology     \n",
              "\n",
              "                                                keywords  \\\n",
              "37587   Secretome; Ascending thoracic aortic aneurysm...   \n",
              "37588   Post-institutionalized children; Internationa...   \n",
              "37589   IL-3; CELL SURVIVAL; PI3k/Akt; Erk; OXIDATIVE...   \n",
              "37590   European comparison; gender inequality; socia...   \n",
              "37591   convergent evolution; effector; entomopathoge...   \n",
              "\n",
              "                                                Abstract  \n",
              "37587  Background: Ascending thoracic aortic aneurysm...  \n",
              "37588  The study examined the social skills of 92 Rus...  \n",
              "37589  Interleukin-3 (IL-3) is a well-characterized g...  \n",
              "37590  Family policies in France and various European...  \n",
              "37591  Entomopathogenic fungi play a pivotal role in ...  "
            ],
            "text/html": [
              "\n",
              "  <div id=\"df-797735da-09a1-4dbe-8196-d48a4e6b70b0\">\n",
              "    <div class=\"colab-df-container\">\n",
              "      <div>\n",
              "<style scoped>\n",
              "    .dataframe tbody tr th:only-of-type {\n",
              "        vertical-align: middle;\n",
              "    }\n",
              "\n",
              "    .dataframe tbody tr th {\n",
              "        vertical-align: top;\n",
              "    }\n",
              "\n",
              "    .dataframe thead th {\n",
              "        text-align: right;\n",
              "    }\n",
              "</style>\n",
              "<table border=\"1\" class=\"dataframe\">\n",
              "  <thead>\n",
              "    <tr style=\"text-align: right;\">\n",
              "      <th></th>\n",
              "      <th>Y1</th>\n",
              "      <th>Y2</th>\n",
              "      <th>Y</th>\n",
              "      <th>Domain</th>\n",
              "      <th>area</th>\n",
              "      <th>keywords</th>\n",
              "      <th>Abstract</th>\n",
              "    </tr>\n",
              "  </thead>\n",
              "  <tbody>\n",
              "    <tr>\n",
              "      <th>37587</th>\n",
              "      <td>0</td>\n",
              "      <td>16</td>\n",
              "      <td>16</td>\n",
              "      <td>CS</td>\n",
              "      <td>Bioinformatics</td>\n",
              "      <td>Secretome; Ascending thoracic aortic aneurysm...</td>\n",
              "      <td>Background: Ascending thoracic aortic aneurysm...</td>\n",
              "    </tr>\n",
              "    <tr>\n",
              "      <th>37588</th>\n",
              "      <td>2</td>\n",
              "      <td>4</td>\n",
              "      <td>37</td>\n",
              "      <td>Psychology</td>\n",
              "      <td>Prosocial behavior</td>\n",
              "      <td>Post-institutionalized children; Internationa...</td>\n",
              "      <td>The study examined the social skills of 92 Rus...</td>\n",
              "    </tr>\n",
              "    <tr>\n",
              "      <th>37589</th>\n",
              "      <td>5</td>\n",
              "      <td>15</td>\n",
              "      <td>87</td>\n",
              "      <td>Medical</td>\n",
              "      <td>Diabetes</td>\n",
              "      <td>IL-3; CELL SURVIVAL; PI3k/Akt; Erk; OXIDATIVE...</td>\n",
              "      <td>Interleukin-3 (IL-3) is a well-characterized g...</td>\n",
              "    </tr>\n",
              "    <tr>\n",
              "      <th>37590</th>\n",
              "      <td>2</td>\n",
              "      <td>15</td>\n",
              "      <td>48</td>\n",
              "      <td>Psychology</td>\n",
              "      <td>Gender roles</td>\n",
              "      <td>European comparison; gender inequality; socia...</td>\n",
              "      <td>Family policies in France and various European...</td>\n",
              "    </tr>\n",
              "    <tr>\n",
              "      <th>37591</th>\n",
              "      <td>6</td>\n",
              "      <td>0</td>\n",
              "      <td>125</td>\n",
              "      <td>biochemistry</td>\n",
              "      <td>Molecular biology</td>\n",
              "      <td>convergent evolution; effector; entomopathoge...</td>\n",
              "      <td>Entomopathogenic fungi play a pivotal role in ...</td>\n",
              "    </tr>\n",
              "  </tbody>\n",
              "</table>\n",
              "</div>\n",
              "      <button class=\"colab-df-convert\" onclick=\"convertToInteractive('df-797735da-09a1-4dbe-8196-d48a4e6b70b0')\"\n",
              "              title=\"Convert this dataframe to an interactive table.\"\n",
              "              style=\"display:none;\">\n",
              "        \n",
              "  <svg xmlns=\"http://www.w3.org/2000/svg\" height=\"24px\"viewBox=\"0 0 24 24\"\n",
              "       width=\"24px\">\n",
              "    <path d=\"M0 0h24v24H0V0z\" fill=\"none\"/>\n",
              "    <path d=\"M18.56 5.44l.94 2.06.94-2.06 2.06-.94-2.06-.94-.94-2.06-.94 2.06-2.06.94zm-11 1L8.5 8.5l.94-2.06 2.06-.94-2.06-.94L8.5 2.5l-.94 2.06-2.06.94zm10 10l.94 2.06.94-2.06 2.06-.94-2.06-.94-.94-2.06-.94 2.06-2.06.94z\"/><path d=\"M17.41 7.96l-1.37-1.37c-.4-.4-.92-.59-1.43-.59-.52 0-1.04.2-1.43.59L10.3 9.45l-7.72 7.72c-.78.78-.78 2.05 0 2.83L4 21.41c.39.39.9.59 1.41.59.51 0 1.02-.2 1.41-.59l7.78-7.78 2.81-2.81c.8-.78.8-2.07 0-2.86zM5.41 20L4 18.59l7.72-7.72 1.47 1.35L5.41 20z\"/>\n",
              "  </svg>\n",
              "      </button>\n",
              "      \n",
              "  <style>\n",
              "    .colab-df-container {\n",
              "      display:flex;\n",
              "      flex-wrap:wrap;\n",
              "      gap: 12px;\n",
              "    }\n",
              "\n",
              "    .colab-df-convert {\n",
              "      background-color: #E8F0FE;\n",
              "      border: none;\n",
              "      border-radius: 50%;\n",
              "      cursor: pointer;\n",
              "      display: none;\n",
              "      fill: #1967D2;\n",
              "      height: 32px;\n",
              "      padding: 0 0 0 0;\n",
              "      width: 32px;\n",
              "    }\n",
              "\n",
              "    .colab-df-convert:hover {\n",
              "      background-color: #E2EBFA;\n",
              "      box-shadow: 0px 1px 2px rgba(60, 64, 67, 0.3), 0px 1px 3px 1px rgba(60, 64, 67, 0.15);\n",
              "      fill: #174EA6;\n",
              "    }\n",
              "\n",
              "    [theme=dark] .colab-df-convert {\n",
              "      background-color: #3B4455;\n",
              "      fill: #D2E3FC;\n",
              "    }\n",
              "\n",
              "    [theme=dark] .colab-df-convert:hover {\n",
              "      background-color: #434B5C;\n",
              "      box-shadow: 0px 1px 3px 1px rgba(0, 0, 0, 0.15);\n",
              "      filter: drop-shadow(0px 1px 2px rgba(0, 0, 0, 0.3));\n",
              "      fill: #FFFFFF;\n",
              "    }\n",
              "  </style>\n",
              "\n",
              "      <script>\n",
              "        const buttonEl =\n",
              "          document.querySelector('#df-797735da-09a1-4dbe-8196-d48a4e6b70b0 button.colab-df-convert');\n",
              "        buttonEl.style.display =\n",
              "          google.colab.kernel.accessAllowed ? 'block' : 'none';\n",
              "\n",
              "        async function convertToInteractive(key) {\n",
              "          const element = document.querySelector('#df-797735da-09a1-4dbe-8196-d48a4e6b70b0');\n",
              "          const dataTable =\n",
              "            await google.colab.kernel.invokeFunction('convertToInteractive',\n",
              "                                                     [key], {});\n",
              "          if (!dataTable) return;\n",
              "\n",
              "          const docLinkHtml = 'Like what you see? Visit the ' +\n",
              "            '<a target=\"_blank\" href=https://colab.research.google.com/notebooks/data_table.ipynb>data table notebook</a>'\n",
              "            + ' to learn more about interactive tables.';\n",
              "          element.innerHTML = '';\n",
              "          dataTable['output_type'] = 'display_data';\n",
              "          await google.colab.output.renderOutput(dataTable, element);\n",
              "          const docLink = document.createElement('div');\n",
              "          docLink.innerHTML = docLinkHtml;\n",
              "          element.appendChild(docLink);\n",
              "        }\n",
              "      </script>\n",
              "    </div>\n",
              "  </div>\n",
              "  "
            ]
          },
          "metadata": {},
          "execution_count": 3
        }
      ]
    },
    {
      "cell_type": "code",
      "source": [
        "REMAP_LEV1 = {'CS': 'Computer Science', \n",
        "              'Civil': 'Civil Engineering', \n",
        "              'ECE': 'Electrical Engineering', \n",
        "              'Psychology': 'Psychology', \n",
        "              'MAE': 'Mechanical Engineering', \n",
        "              'Medical': 'Medical Science', \n",
        "              'biochemistry': 'Biochemistry'}"
      ],
      "metadata": {
        "id": "07HnOFfSvpbj"
      },
      "execution_count": null,
      "outputs": []
    },
    {
      "cell_type": "code",
      "source": [
        "def get_mapped_labels(data, mapping_dict):\n",
        "  labels = [l.strip() for l in data]\n",
        "  return list(map(lambda l: mapping_dict[l], labels))"
      ],
      "metadata": {
        "id": "imnQaupNDAAZ"
      },
      "execution_count": null,
      "outputs": []
    },
    {
      "cell_type": "code",
      "source": [
        "labels = get_mapped_labels(set(test_dataset['Domain']), REMAP_LEV1)\n",
        "abstracts = list(test_dataset['Abstract'])"
      ],
      "metadata": {
        "id": "kNR3b_jeDbjt"
      },
      "execution_count": null,
      "outputs": []
    },
    {
      "cell_type": "code",
      "source": [
        "model = SentenceTransformer('sentence-transformers/all-mpnet-base-v2', device = device)"
      ],
      "metadata": {
        "id": "0PhzSmQiEME-"
      },
      "execution_count": null,
      "outputs": []
    },
    {
      "cell_type": "code",
      "source": [
        "labels_embeddings = model.encode(labels)\n",
        "doc_embeddings = model.encode(abstracts, batch_size = 256, show_progress_bar=True) # directly encode the entire documents "
      ],
      "metadata": {
        "id": "xbRErHLSEsTI",
        "colab": {
          "base_uri": "https://localhost:8080/",
          "height": 49,
          "referenced_widgets": [
            "8efae61f2f934399ac26393f7fe68efc",
            "bb0ded289e37447fa4b4d18939364b9f",
            "23dabb9fefbb458d87c20d6b078e0cdc",
            "0829109f39d74925a99d9540b370b20f",
            "ec81fc0a837f4e86aa2d48bd2f9c0494",
            "01be3016b89c4bf4adf41fec808837e1",
            "42e30984d3f5469d86d5d74bae41aaaa",
            "2ab1cb18c21149789c0678280aadc292",
            "17b0ff94a27049fcbcbc5205074f7d2b",
            "46bd13240af1431bb29af3fa393202c7",
            "44875ff9eae944feb89b62a8fc1062d6"
          ]
        },
        "outputId": "e0002179-eb28-4c1c-cf6c-027950facbd4"
      },
      "execution_count": null,
      "outputs": [
        {
          "output_type": "display_data",
          "data": {
            "text/plain": [
              "Batches:   0%|          | 0/37 [00:00<?, ?it/s]"
            ],
            "application/vnd.jupyter.widget-view+json": {
              "version_major": 2,
              "version_minor": 0,
              "model_id": "8efae61f2f934399ac26393f7fe68efc"
            }
          },
          "metadata": {}
        }
      ]
    },
    {
      "cell_type": "code",
      "source": [
        "# with open('test_doc_embeddings.txt','wb') as f:\n",
        "    # for line in np.matrix(doc_embeddings):\n",
        "       # np.savetxt(f, line)"
      ],
      "metadata": {
        "id": "cGSBYZAcRiA9"
      },
      "execution_count": null,
      "outputs": []
    },
    {
      "cell_type": "code",
      "source": [
        "# df = pd.read_csv('/content/test_doc_embeddings.txt', sep = ' ', header=None) \n",
        "# retrieve corresponding document using test_dataset.iloc[i]"
      ],
      "metadata": {
        "id": "eQjPGF5-S34b"
      },
      "execution_count": null,
      "outputs": []
    },
    {
      "cell_type": "code",
      "source": [
        "def floored_cosine_knn(x, y):\n",
        "  norm_x = x/np.linalg.norm(x)\n",
        "  norm_y = y/np.linalg.norm(y)\n",
        "  return max(0.0, 1 - np.dot(norm_x, norm_y))"
      ],
      "metadata": {
        "id": "mvxjQEwIKGJ3"
      },
      "execution_count": null,
      "outputs": []
    },
    {
      "cell_type": "code",
      "source": [
        "from sklearn.neighbors import KNeighborsClassifier\n",
        "knn = KNeighborsClassifier(n_neighbors=1, algorithm = 'brute', metric = floored_cosine_knn)\n",
        "knn.fit(labels_embeddings, labels)\n",
        "y_pred = knn.predict(doc_embeddings)"
      ],
      "metadata": {
        "id": "VbYU8o0aJTZn"
      },
      "execution_count": null,
      "outputs": []
    },
    {
      "cell_type": "code",
      "source": [
        "import pprint\n",
        "from sklearn.metrics import classification_report\n",
        "pp = pprint.PrettyPrinter(depth=4)\n",
        "pp.pprint(classification_report(get_mapped_labels(test_dataset['Domain'], REMAP_LEV1), y_pred, target_names=labels, output_dict=True))"
      ],
      "metadata": {
        "colab": {
          "base_uri": "https://localhost:8080/"
        },
        "id": "d1Z-lbXSWCIT",
        "outputId": "9db57a29-4d91-4c51-e780-4ea19a96b8b6"
      },
      "execution_count": null,
      "outputs": [
        {
          "output_type": "stream",
          "name": "stdout",
          "text": [
            "{'Biochemistry': {'f1-score': 0.6402164111812443,\n",
            "                  'precision': 0.7709011943539631,\n",
            "                  'recall': 0.5474171164225135,\n",
            "                  'support': 1297},\n",
            " 'Civil Engineering': {'f1-score': 0.48351648351648346,\n",
            "                       'precision': 0.42259887005649716,\n",
            "                       'recall': 0.5649546827794562,\n",
            "                       'support': 662},\n",
            " 'Computer Science': {'f1-score': 0.6030624263839811,\n",
            "                      'precision': 0.6153846153846154,\n",
            "                      'recall': 0.5912240184757506,\n",
            "                      'support': 866},\n",
            " 'Electrical Engineering': {'f1-score': 0.6959418534221683,\n",
            "                            'precision': 0.6141101015499733,\n",
            "                            'recall': 0.8029350104821803,\n",
            "                            'support': 1431},\n",
            " 'Mechanical Engineering': {'f1-score': 0.556475458308693,\n",
            "                            'precision': 0.42254153569824876,\n",
            "                            'recall': 0.8147186147186147,\n",
            "                            'support': 1155},\n",
            " 'Medical Science': {'f1-score': 0.6333021515434986,\n",
            "                     'precision': 0.6398865784499055,\n",
            "                     'recall': 0.6268518518518519,\n",
            "                     'support': 1080},\n",
            " 'Psychology': {'f1-score': 0.5555309244070051,\n",
            "                'precision': 0.7811720698254364,\n",
            "                'recall': 0.43102855177158583,\n",
            "                'support': 2907},\n",
            " 'accuracy': 0.5975739519046606,\n",
            " 'macro avg': {'f1-score': 0.5954351012518677,\n",
            "               'precision': 0.6095135664740914,\n",
            "               'recall': 0.6255899780717076,\n",
            "               'support': 9398},\n",
            " 'weighted avg': {'f1-score': 0.5969586429187401,\n",
            "                  'precision': 0.6534703254666417,\n",
            "                  'recall': 0.5975739519046606,\n",
            "                  'support': 9398}}\n"
          ]
        }
      ]
    },
    {
      "cell_type": "markdown",
      "source": [
        "### Document embeddings with entropy calculation"
      ],
      "metadata": {
        "id": "CwfDhrCsw6rn"
      }
    },
    {
      "cell_type": "code",
      "source": [
        "import nltk\n",
        "nltk.download('punkt')\n",
        "import scipy\n",
        "import numpy as np"
      ],
      "metadata": {
        "id": "oeyYN29m0xFn"
      },
      "execution_count": null,
      "outputs": []
    },
    {
      "cell_type": "code",
      "source": [
        "def floored_cosine(X, Y):\n",
        "  norm_x = X / np.linalg.norm(X, axis=1, keepdims=True)\n",
        "  norm_y = Y / np.linalg.norm(Y, axis=1, keepdims=True)\n",
        "  return np.maximum(0, np.matmul(norm_x, norm_y.T))\n",
        "\n",
        "def floored_cosine_tensors(X, Y):\n",
        "  sim = cos_sim(X, Y)\n",
        "  return np.maximum(0, sim)"
      ],
      "metadata": {
        "id": "phWgAVTsx-Ch"
      },
      "execution_count": null,
      "outputs": []
    },
    {
      "cell_type": "code",
      "source": [
        "def get_entropies(sentences, labels_embeddings):\n",
        "  # probs = [[floored_cosine_knn(s, y) for y in labels_embeddings] for s in sentences]\n",
        "  # probs = floored_cosine(sentences, labels_embeddings)\n",
        "  probs = floored_cosine_tensors(sentences, labels_embeddings)\n",
        "  normalized_probs = probs/np.linalg.norm(probs)\n",
        "  normalized_entropy = scipy.stats.entropy(normalized_probs, axis = 1)/np.log(labels_embeddings.shape[0])\n",
        "  return 1 - normalized_entropy"
      ],
      "metadata": {
        "id": "qlRzBr3EaW-9"
      },
      "execution_count": null,
      "outputs": []
    },
    {
      "cell_type": "code",
      "source": [
        "from tqdm import tqdm\n",
        "docs = []\n",
        "for abs in tqdm(abstracts):\n",
        "  sentences = nltk.tokenize.sent_tokenize(abs)\n",
        "  sent_embs = model.encode(sentences)\n",
        "  entropies = get_entropies(sent_embs, labels_embeddings)\n",
        "  docs.append(np.dot(entropies, sent_embs)/sum(entropies))\n",
        "\n",
        "docs_embeddings = np.array(docs) # shape (num_docs, 768)"
      ],
      "metadata": {
        "id": "TgpSL0cHZFW-",
        "colab": {
          "base_uri": "https://localhost:8080/"
        },
        "outputId": "39a519d1-3b14-41b5-8798-f6e5c9106aba"
      },
      "execution_count": null,
      "outputs": [
        {
          "output_type": "stream",
          "name": "stderr",
          "text": [
            "  1%|          | 106/9398 [00:09<11:26, 13.53it/s]/usr/local/lib/python3.7/dist-packages/scipy/stats/_distn_infrastructure.py:2664: RuntimeWarning: invalid value encountered in true_divide\n",
            "  pk = 1.0*pk / np.sum(pk, axis=axis, keepdims=True)\n",
            "100%|██████████| 9398/9398 [13:12<00:00, 11.86it/s]\n"
          ]
        }
      ]
    },
    {
      "cell_type": "code",
      "source": [
        "indices = list(set(np.argwhere(np.isnan(docs_embeddings))[:, 0]))"
      ],
      "metadata": {
        "id": "OEknLZIx7Cts"
      },
      "execution_count": null,
      "outputs": []
    },
    {
      "cell_type": "code",
      "source": [
        "dc = docs_embeddings\n",
        "dc = np.delete(dc, indices, axis = 0)"
      ],
      "metadata": {
        "id": "AfKfiYv74Wz3"
      },
      "execution_count": null,
      "outputs": []
    },
    {
      "cell_type": "code",
      "source": [
        "knn = KNeighborsClassifier(n_neighbors=1, algorithm = 'brute', metric = floored_cosine_knn)\n",
        "knn.fit(labels_embeddings, labels)\n",
        "y_pred = knn.predict(dc) # almost the same results obtained without entropy "
      ],
      "metadata": {
        "id": "FOQqbBApu5sl"
      },
      "execution_count": null,
      "outputs": []
    },
    {
      "cell_type": "code",
      "source": [
        "labs = np.asarray(get_mapped_labels(test_dataset['Domain'], REMAP_LEV1))\n",
        "labs = np.delete(labs, indices, axis = 0)"
      ],
      "metadata": {
        "id": "BBa4ZkMQ6TY4"
      },
      "execution_count": null,
      "outputs": []
    },
    {
      "cell_type": "code",
      "source": [
        "pp = pprint.PrettyPrinter(depth=4)\n",
        "pp.pprint(classification_report(labs, y_pred, target_names=labels, output_dict=True))"
      ],
      "metadata": {
        "colab": {
          "base_uri": "https://localhost:8080/"
        },
        "id": "cJApWE-P6Rvq",
        "outputId": "2523be5d-a4ad-40b0-861c-4173544853c1"
      },
      "execution_count": null,
      "outputs": [
        {
          "output_type": "stream",
          "name": "stdout",
          "text": [
            "{'Biochemistry': {'f1-score': 0.6241610738255035,\n",
            "                  'precision': 0.791970802919708,\n",
            "                  'recall': 0.5150316455696202,\n",
            "                  'support': 1264},\n",
            " 'Civil Engineering': {'f1-score': 0.47536617842876167,\n",
            "                       'precision': 0.4180327868852459,\n",
            "                       'recall': 0.5509259259259259,\n",
            "                       'support': 648},\n",
            " 'Computer Science': {'f1-score': 0.5909090909090909,\n",
            "                      'precision': 0.6509298998569385,\n",
            "                      'recall': 0.5410225921521997,\n",
            "                      'support': 841},\n",
            " 'Electrical Engineering': {'f1-score': 0.6929577464788732,\n",
            "                            'precision': 0.6250705815923208,\n",
            "                            'recall': 0.7773876404494382,\n",
            "                            'support': 1424},\n",
            " 'Mechanical Engineering': {'f1-score': 0.5674008810572688,\n",
            "                            'precision': 0.42781222320637735,\n",
            "                            'recall': 0.8421970357454228,\n",
            "                            'support': 1147},\n",
            " 'Medical Science': {'f1-score': 0.6362378976486861,\n",
            "                     'precision': 0.6324472960586618,\n",
            "                     'recall': 0.640074211502783,\n",
            "                     'support': 1078},\n",
            " 'Psychology': {'f1-score': 0.6021780909673287,\n",
            "                'precision': 0.7855153203342619,\n",
            "                'recall': 0.48822714681440443,\n",
            "                'support': 2888},\n",
            " 'accuracy': 0.6066738428417653,\n",
            " 'macro avg': {'f1-score': 0.5984587084736448,\n",
            "               'precision': 0.6188255586933592,\n",
            "               'recall': 0.6221237425942564,\n",
            "               'support': 9290},\n",
            " 'weighted avg': {'f1-score': 0.6088769481517063,\n",
            "                  'precision': 0.6620576905332186,\n",
            "                  'recall': 0.6066738428417653,\n",
            "                  'support': 9290}}\n"
          ]
        }
      ]
    }
  ]
}