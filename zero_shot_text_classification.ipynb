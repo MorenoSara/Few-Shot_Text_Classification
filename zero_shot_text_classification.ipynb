{
  "nbformat": 4,
  "nbformat_minor": 0,
  "metadata": {
    "colab": {
      "name": "zero-shot_text_classification.ipynb",
      "provenance": [],
      "authorship_tag": "ABX9TyNqJIRAZT85obGkiZlt6y8L",
      "include_colab_link": true
    },
    "kernelspec": {
      "name": "python3",
      "display_name": "Python 3"
    },
    "language_info": {
      "name": "python"
    }
  },
  "cells": [
    {
      "cell_type": "markdown",
      "metadata": {
        "id": "view-in-github",
        "colab_type": "text"
      },
      "source": [
        "<a href=\"https://colab.research.google.com/github/MorenoSara/Few-Shot_Text_Classification/blob/main/zero_shot_text_classification.ipynb\" target=\"_parent\"><img src=\"https://colab.research.google.com/assets/colab-badge.svg\" alt=\"Open In Colab\"/></a>"
      ]
    },
    {
      "cell_type": "code",
      "source": [
        "!pip install -U sentence-transformers"
      ],
      "metadata": {
        "id": "ndnkP7Q7EPS4"
      },
      "execution_count": null,
      "outputs": []
    },
    {
      "cell_type": "code",
      "execution_count": 261,
      "metadata": {
        "id": "RZtz7iJEuToU"
      },
      "outputs": [],
      "source": [
        "import pandas as pd\n",
        "from sentence_transformers import SentenceTransformer\n",
        "import torch\n",
        "from sentence_transformers.util import cos_sim\n",
        "\n",
        "device = torch.device(\"cuda\" if torch.cuda.is_available() else \"cpu\")"
      ]
    },
    {
      "cell_type": "code",
      "source": [
        "train_dataset = pd.read_excel('train.xlsx', index_col=0) # 32889 samples"
      ],
      "metadata": {
        "id": "vaBm1Y9UvFUf"
      },
      "execution_count": null,
      "outputs": []
    },
    {
      "cell_type": "code",
      "source": [
        "REMAP_LEV1 = {'CS': 'Computer Science', \n",
        "              'Civil': 'Civil Engineering', \n",
        "              'ECE': 'Electrical Engineering', \n",
        "              'Psychology': 'Psychology', \n",
        "              'MAE': 'Mechanical Engineering', \n",
        "              'Medical': 'Medical Science', \n",
        "              'biochemistry': 'Biochemistry'}"
      ],
      "metadata": {
        "id": "07HnOFfSvpbj"
      },
      "execution_count": 29,
      "outputs": []
    },
    {
      "cell_type": "code",
      "source": [
        "def get_mapped_labels(data, mapping_dict):\n",
        "  labels = set(data)\n",
        "  labels = [l.strip() for l in labels]\n",
        "  return list(map(lambda l: mapping_dict[l], labels))"
      ],
      "metadata": {
        "id": "imnQaupNDAAZ"
      },
      "execution_count": 31,
      "outputs": []
    },
    {
      "cell_type": "code",
      "source": [
        "labels = get_mapped_labels(train_dataset['Domain'], REMAP_LEV1)\n",
        "abstracts = train_dataset['Abstract']"
      ],
      "metadata": {
        "id": "kNR3b_jeDbjt"
      },
      "execution_count": 46,
      "outputs": []
    },
    {
      "cell_type": "code",
      "source": [
        "labels"
      ],
      "metadata": {
        "colab": {
          "base_uri": "https://localhost:8080/"
        },
        "id": "TnhOAMrmPrfh",
        "outputId": "cce430cd-117d-4c85-f449-655be89735a9"
      },
      "execution_count": 69,
      "outputs": [
        {
          "output_type": "execute_result",
          "data": {
            "text/plain": [
              "['Medical Science',\n",
              " 'Computer Science',\n",
              " 'Electrical Engineering',\n",
              " 'Biochemistry',\n",
              " 'Psychology',\n",
              " 'Mechanical Engineering',\n",
              " 'Civil Engineering']"
            ]
          },
          "metadata": {},
          "execution_count": 69
        }
      ]
    },
    {
      "cell_type": "code",
      "source": [
        "model = SentenceTransformer('sentence-transformers/all-mpnet-base-v2', device = device)"
      ],
      "metadata": {
        "id": "0PhzSmQiEME-"
      },
      "execution_count": 256,
      "outputs": []
    },
    {
      "cell_type": "code",
      "source": [
        "labels_embeddings = model.encode(labels)\n",
        "doc_embeddings = model.encode(abstracts[:50]) # directly encode the entire documents "
      ],
      "metadata": {
        "id": "xbRErHLSEsTI"
      },
      "execution_count": 259,
      "outputs": []
    },
    {
      "cell_type": "code",
      "source": [
        "from scipy import spatial\n",
        "def floored_cosine_knn(x, y):\n",
        "  norm_x = x/np.linalg.norm(x)\n",
        "  norm_y = y/np.linalg.norm(y)\n",
        "  return max(0.0, 1 - np.dot(norm_x, norm_y))"
      ],
      "metadata": {
        "id": "mvxjQEwIKGJ3"
      },
      "execution_count": 253,
      "outputs": []
    },
    {
      "cell_type": "code",
      "source": [
        "from sklearn.neighbors import KNeighborsClassifier\n",
        "knn = KNeighborsClassifier(n_neighbors=1, algorithm = 'brute', metric = floored_cosine_knn)\n",
        "knn.fit(labels_embeddings, labels)\n",
        "knn.predict(doc_embeddings)"
      ],
      "metadata": {
        "colab": {
          "base_uri": "https://localhost:8080/"
        },
        "id": "VbYU8o0aJTZn",
        "outputId": "5d32a1ae-e091-4b74-d9ac-b34dde73ebd8"
      },
      "execution_count": 254,
      "outputs": [
        {
          "output_type": "execute_result",
          "data": {
            "text/plain": [
              "array(['Psychology', 'Computer Science', 'Electrical Engineering',\n",
              "       'Biochemistry'], dtype='<U22')"
            ]
          },
          "metadata": {},
          "execution_count": 254
        }
      ]
    },
    {
      "cell_type": "markdown",
      "source": [
        "### Document embeddings with entropy calculation"
      ],
      "metadata": {
        "id": "CwfDhrCsw6rn"
      }
    },
    {
      "cell_type": "code",
      "source": [
        "import nltk\n",
        "nltk.download('punkt')\n",
        "import scipy\n",
        "import numpy as np"
      ],
      "metadata": {
        "id": "oeyYN29m0xFn"
      },
      "execution_count": null,
      "outputs": []
    },
    {
      "cell_type": "code",
      "source": [
        "def floored_cosine(X, Y):\n",
        "  norm_x = X / np.linalg.norm(X, axis=1, keepdims=True)\n",
        "  norm_y = Y / np.linalg.norm(Y, axis=1, keepdims=True)\n",
        "  return np.maximum(0, np.matmul(norm_x, norm_y.T))\n",
        "\n",
        "def floored_cosine_tensors(X, Y):\n",
        "  sim = cos_sim(X, Y)\n",
        "  return np.maximum(0, sim)"
      ],
      "metadata": {
        "id": "phWgAVTsx-Ch"
      },
      "execution_count": 262,
      "outputs": []
    },
    {
      "cell_type": "code",
      "source": [
        "def get_entropies(sentences, labels_embeddings):\n",
        "  # probs = [[floored_cosine_knn(s, y) for y in labels_embeddings] for s in sentences]\n",
        "  # probs = floored_cosine(sentences, labels_embeddings)\n",
        "  probs = floored_cosine_tensors(sentences, labels_embeddings)\n",
        "  normalized_probs = probs/np.linalg.norm(probs)\n",
        "  normalized_entropy = scipy.stats.entropy(normalized_probs, axis = 1)/np.log(labels_embeddings.shape[0])\n",
        "  return 1 - normalized_entropy"
      ],
      "metadata": {
        "id": "qlRzBr3EaW-9"
      },
      "execution_count": 266,
      "outputs": []
    },
    {
      "cell_type": "code",
      "source": [
        "docs = []\n",
        "for abs in abstracts[:4]:\n",
        "  sentences = nltk.tokenize.sent_tokenize(abs)\n",
        "  sent_embs = model.encode(sentences)\n",
        "  entropies = get_entropies(sent_embs, labels_embeddings)\n",
        "  docs.append(np.dot(entropies, sent_embs)/sum(entropies))\n",
        "\n",
        "docs_embeddings = np.array(docs) # shape (num_docs, 768)"
      ],
      "metadata": {
        "id": "TgpSL0cHZFW-"
      },
      "execution_count": 267,
      "outputs": []
    },
    {
      "cell_type": "code",
      "source": [
        "knn = KNeighborsClassifier(n_neighbors=1, algorithm = 'brute', metric = floored_cosine_knn)\n",
        "knn.fit(labels_embeddings, labels)\n",
        "knn.predict(docs_embeddings) # same results obtained without entropy "
      ],
      "metadata": {
        "colab": {
          "base_uri": "https://localhost:8080/"
        },
        "id": "FOQqbBApu5sl",
        "outputId": "2c717559-d84f-4a00-967d-0895c07e244c"
      },
      "execution_count": 268,
      "outputs": [
        {
          "output_type": "execute_result",
          "data": {
            "text/plain": [
              "array(['Psychology', 'Computer Science', 'Mechanical Engineering',\n",
              "       'Biochemistry'], dtype='<U22')"
            ]
          },
          "metadata": {},
          "execution_count": 268
        }
      ]
    }
  ]
}