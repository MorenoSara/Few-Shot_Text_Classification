{
  "nbformat": 4,
  "nbformat_minor": 0,
  "metadata": {
    "colab": {
      "name": "zero-shot_text_classification.ipynb",
      "provenance": [],
      "authorship_tag": "ABX9TyN8fzyofUGvaL3zZuAdKkuA",
      "include_colab_link": true
    },
    "kernelspec": {
      "name": "python3",
      "display_name": "Python 3"
    },
    "language_info": {
      "name": "python"
    }
  },
  "cells": [
    {
      "cell_type": "markdown",
      "metadata": {
        "id": "view-in-github",
        "colab_type": "text"
      },
      "source": [
        "<a href=\"https://colab.research.google.com/github/MorenoSara/Few-Shot_Text_Classification/blob/main/zero_shot_text_classification.ipynb\" target=\"_parent\"><img src=\"https://colab.research.google.com/assets/colab-badge.svg\" alt=\"Open In Colab\"/></a>"
      ]
    },
    {
      "cell_type": "code",
      "source": [
        "!pip install -U sentence-transformers"
      ],
      "metadata": {
        "id": "ndnkP7Q7EPS4"
      },
      "execution_count": null,
      "outputs": []
    },
    {
      "cell_type": "code",
      "execution_count": 2,
      "metadata": {
        "id": "RZtz7iJEuToU"
      },
      "outputs": [],
      "source": [
        "import pandas as pd\n",
        "from sentence_transformers import SentenceTransformer\n",
        "import torch\n",
        "from sentence_transformers.util import cos_sim\n",
        "import numpy as np\n",
        "\n",
        "device = torch.device(\"cuda\" if torch.cuda.is_available() else \"cpu\")"
      ]
    },
    {
      "cell_type": "code",
      "source": [
        "train_dataset = pd.read_excel('train.xlsx', index_col=0) # 32889 samples\n",
        "train_dataset.head()"
      ],
      "metadata": {
        "colab": {
          "base_uri": "https://localhost:8080/",
          "height": 206
        },
        "id": "vaBm1Y9UvFUf",
        "outputId": "366dfb4c-962e-40d9-b881-90402463bc13"
      },
      "execution_count": 3,
      "outputs": [
        {
          "output_type": "execute_result",
          "data": {
            "text/plain": [
              "   Y1  Y2    Y         Domain                          area  \\\n",
              "0   5  43  115       Medical          Parkinson's Disease     \n",
              "1   0   1    1            CS             Machine learning     \n",
              "2   0   7    7            CS           Parallel computing     \n",
              "3   6   6  131  biochemistry    Polymerase chain reaction     \n",
              "4   6   6  131  biochemistry    Polymerase chain reaction     \n",
              "\n",
              "                                            keywords  \\\n",
              "0   deep brain stimulation; basal ganglia; parkin...   \n",
              "1   Supervised classification; Label ranking prob...   \n",
              "2   Track fitting; Track reconstruction; Multiple...   \n",
              "3   bacterial community; calves; probiotics; rume...   \n",
              "4   Bladder cancer; glycoprotein nonmetastatic me...   \n",
              "\n",
              "                                            Abstract  \n",
              "0  The subthalamic nucleus (STN) and globus palli...  \n",
              "1  Preference learning is the branch of machine l...  \n",
              "2  Modern semiconductor detectors allow for charg...  \n",
              "3  The objective of this study was to assess the ...  \n",
              "4  Glycoprotein nonmetastatic melanoma protein B ...  "
            ],
            "text/html": [
              "\n",
              "  <div id=\"df-c368dc0d-6320-4b63-87dd-2660f0f8daaf\">\n",
              "    <div class=\"colab-df-container\">\n",
              "      <div>\n",
              "<style scoped>\n",
              "    .dataframe tbody tr th:only-of-type {\n",
              "        vertical-align: middle;\n",
              "    }\n",
              "\n",
              "    .dataframe tbody tr th {\n",
              "        vertical-align: top;\n",
              "    }\n",
              "\n",
              "    .dataframe thead th {\n",
              "        text-align: right;\n",
              "    }\n",
              "</style>\n",
              "<table border=\"1\" class=\"dataframe\">\n",
              "  <thead>\n",
              "    <tr style=\"text-align: right;\">\n",
              "      <th></th>\n",
              "      <th>Y1</th>\n",
              "      <th>Y2</th>\n",
              "      <th>Y</th>\n",
              "      <th>Domain</th>\n",
              "      <th>area</th>\n",
              "      <th>keywords</th>\n",
              "      <th>Abstract</th>\n",
              "    </tr>\n",
              "  </thead>\n",
              "  <tbody>\n",
              "    <tr>\n",
              "      <th>0</th>\n",
              "      <td>5</td>\n",
              "      <td>43</td>\n",
              "      <td>115</td>\n",
              "      <td>Medical</td>\n",
              "      <td>Parkinson's Disease</td>\n",
              "      <td>deep brain stimulation; basal ganglia; parkin...</td>\n",
              "      <td>The subthalamic nucleus (STN) and globus palli...</td>\n",
              "    </tr>\n",
              "    <tr>\n",
              "      <th>1</th>\n",
              "      <td>0</td>\n",
              "      <td>1</td>\n",
              "      <td>1</td>\n",
              "      <td>CS</td>\n",
              "      <td>Machine learning</td>\n",
              "      <td>Supervised classification; Label ranking prob...</td>\n",
              "      <td>Preference learning is the branch of machine l...</td>\n",
              "    </tr>\n",
              "    <tr>\n",
              "      <th>2</th>\n",
              "      <td>0</td>\n",
              "      <td>7</td>\n",
              "      <td>7</td>\n",
              "      <td>CS</td>\n",
              "      <td>Parallel computing</td>\n",
              "      <td>Track fitting; Track reconstruction; Multiple...</td>\n",
              "      <td>Modern semiconductor detectors allow for charg...</td>\n",
              "    </tr>\n",
              "    <tr>\n",
              "      <th>3</th>\n",
              "      <td>6</td>\n",
              "      <td>6</td>\n",
              "      <td>131</td>\n",
              "      <td>biochemistry</td>\n",
              "      <td>Polymerase chain reaction</td>\n",
              "      <td>bacterial community; calves; probiotics; rume...</td>\n",
              "      <td>The objective of this study was to assess the ...</td>\n",
              "    </tr>\n",
              "    <tr>\n",
              "      <th>4</th>\n",
              "      <td>6</td>\n",
              "      <td>6</td>\n",
              "      <td>131</td>\n",
              "      <td>biochemistry</td>\n",
              "      <td>Polymerase chain reaction</td>\n",
              "      <td>Bladder cancer; glycoprotein nonmetastatic me...</td>\n",
              "      <td>Glycoprotein nonmetastatic melanoma protein B ...</td>\n",
              "    </tr>\n",
              "  </tbody>\n",
              "</table>\n",
              "</div>\n",
              "      <button class=\"colab-df-convert\" onclick=\"convertToInteractive('df-c368dc0d-6320-4b63-87dd-2660f0f8daaf')\"\n",
              "              title=\"Convert this dataframe to an interactive table.\"\n",
              "              style=\"display:none;\">\n",
              "        \n",
              "  <svg xmlns=\"http://www.w3.org/2000/svg\" height=\"24px\"viewBox=\"0 0 24 24\"\n",
              "       width=\"24px\">\n",
              "    <path d=\"M0 0h24v24H0V0z\" fill=\"none\"/>\n",
              "    <path d=\"M18.56 5.44l.94 2.06.94-2.06 2.06-.94-2.06-.94-.94-2.06-.94 2.06-2.06.94zm-11 1L8.5 8.5l.94-2.06 2.06-.94-2.06-.94L8.5 2.5l-.94 2.06-2.06.94zm10 10l.94 2.06.94-2.06 2.06-.94-2.06-.94-.94-2.06-.94 2.06-2.06.94z\"/><path d=\"M17.41 7.96l-1.37-1.37c-.4-.4-.92-.59-1.43-.59-.52 0-1.04.2-1.43.59L10.3 9.45l-7.72 7.72c-.78.78-.78 2.05 0 2.83L4 21.41c.39.39.9.59 1.41.59.51 0 1.02-.2 1.41-.59l7.78-7.78 2.81-2.81c.8-.78.8-2.07 0-2.86zM5.41 20L4 18.59l7.72-7.72 1.47 1.35L5.41 20z\"/>\n",
              "  </svg>\n",
              "      </button>\n",
              "      \n",
              "  <style>\n",
              "    .colab-df-container {\n",
              "      display:flex;\n",
              "      flex-wrap:wrap;\n",
              "      gap: 12px;\n",
              "    }\n",
              "\n",
              "    .colab-df-convert {\n",
              "      background-color: #E8F0FE;\n",
              "      border: none;\n",
              "      border-radius: 50%;\n",
              "      cursor: pointer;\n",
              "      display: none;\n",
              "      fill: #1967D2;\n",
              "      height: 32px;\n",
              "      padding: 0 0 0 0;\n",
              "      width: 32px;\n",
              "    }\n",
              "\n",
              "    .colab-df-convert:hover {\n",
              "      background-color: #E2EBFA;\n",
              "      box-shadow: 0px 1px 2px rgba(60, 64, 67, 0.3), 0px 1px 3px 1px rgba(60, 64, 67, 0.15);\n",
              "      fill: #174EA6;\n",
              "    }\n",
              "\n",
              "    [theme=dark] .colab-df-convert {\n",
              "      background-color: #3B4455;\n",
              "      fill: #D2E3FC;\n",
              "    }\n",
              "\n",
              "    [theme=dark] .colab-df-convert:hover {\n",
              "      background-color: #434B5C;\n",
              "      box-shadow: 0px 1px 3px 1px rgba(0, 0, 0, 0.15);\n",
              "      filter: drop-shadow(0px 1px 2px rgba(0, 0, 0, 0.3));\n",
              "      fill: #FFFFFF;\n",
              "    }\n",
              "  </style>\n",
              "\n",
              "      <script>\n",
              "        const buttonEl =\n",
              "          document.querySelector('#df-c368dc0d-6320-4b63-87dd-2660f0f8daaf button.colab-df-convert');\n",
              "        buttonEl.style.display =\n",
              "          google.colab.kernel.accessAllowed ? 'block' : 'none';\n",
              "\n",
              "        async function convertToInteractive(key) {\n",
              "          const element = document.querySelector('#df-c368dc0d-6320-4b63-87dd-2660f0f8daaf');\n",
              "          const dataTable =\n",
              "            await google.colab.kernel.invokeFunction('convertToInteractive',\n",
              "                                                     [key], {});\n",
              "          if (!dataTable) return;\n",
              "\n",
              "          const docLinkHtml = 'Like what you see? Visit the ' +\n",
              "            '<a target=\"_blank\" href=https://colab.research.google.com/notebooks/data_table.ipynb>data table notebook</a>'\n",
              "            + ' to learn more about interactive tables.';\n",
              "          element.innerHTML = '';\n",
              "          dataTable['output_type'] = 'display_data';\n",
              "          await google.colab.output.renderOutput(dataTable, element);\n",
              "          const docLink = document.createElement('div');\n",
              "          docLink.innerHTML = docLinkHtml;\n",
              "          element.appendChild(docLink);\n",
              "        }\n",
              "      </script>\n",
              "    </div>\n",
              "  </div>\n",
              "  "
            ]
          },
          "metadata": {},
          "execution_count": 3
        }
      ]
    },
    {
      "cell_type": "code",
      "source": [
        "REMAP_LEV1 = {'CS': 'Computer Science', \n",
        "              'Civil': 'Civil Engineering', \n",
        "              'ECE': 'Electrical Engineering', \n",
        "              'Psychology': 'Psychology', \n",
        "              'MAE': 'Mechanical Engineering', \n",
        "              'Medical': 'Medical Science', \n",
        "              'biochemistry': 'Biochemistry'}"
      ],
      "metadata": {
        "id": "07HnOFfSvpbj"
      },
      "execution_count": 4,
      "outputs": []
    },
    {
      "cell_type": "code",
      "source": [
        "def get_mapped_labels(data, mapping_dict):\n",
        "  labels = set(data)\n",
        "  labels = [l.strip() for l in labels]\n",
        "  return list(map(lambda l: mapping_dict[l], labels))"
      ],
      "metadata": {
        "id": "imnQaupNDAAZ"
      },
      "execution_count": 5,
      "outputs": []
    },
    {
      "cell_type": "code",
      "source": [
        "labels = get_mapped_labels(train_dataset['Domain'], REMAP_LEV1)\n",
        "abstracts = train_dataset['Abstract']"
      ],
      "metadata": {
        "id": "kNR3b_jeDbjt"
      },
      "execution_count": 6,
      "outputs": []
    },
    {
      "cell_type": "code",
      "source": [
        "labels"
      ],
      "metadata": {
        "colab": {
          "base_uri": "https://localhost:8080/"
        },
        "id": "TnhOAMrmPrfh",
        "outputId": "5ab0ffff-dd81-44d5-dbce-cd4ae55d58fe"
      },
      "execution_count": 7,
      "outputs": [
        {
          "output_type": "execute_result",
          "data": {
            "text/plain": [
              "['Psychology',\n",
              " 'Computer Science',\n",
              " 'Electrical Engineering',\n",
              " 'Mechanical Engineering',\n",
              " 'Civil Engineering',\n",
              " 'Biochemistry',\n",
              " 'Medical Science']"
            ]
          },
          "metadata": {},
          "execution_count": 7
        }
      ]
    },
    {
      "cell_type": "code",
      "source": [
        "model = SentenceTransformer('sentence-transformers/all-mpnet-base-v2', device = device)"
      ],
      "metadata": {
        "id": "0PhzSmQiEME-"
      },
      "execution_count": 8,
      "outputs": []
    },
    {
      "cell_type": "code",
      "source": [
        "labels_embeddings = model.encode(labels)\n",
        "doc_embeddings = model.encode(abstracts[:5]) # directly encode the entire documents "
      ],
      "metadata": {
        "id": "xbRErHLSEsTI"
      },
      "execution_count": 9,
      "outputs": []
    },
    {
      "cell_type": "code",
      "source": [
        "def floored_cosine_knn(x, y):\n",
        "  norm_x = x/np.linalg.norm(x)\n",
        "  norm_y = y/np.linalg.norm(y)\n",
        "  return max(0.0, 1 - np.dot(norm_x, norm_y))"
      ],
      "metadata": {
        "id": "mvxjQEwIKGJ3"
      },
      "execution_count": 10,
      "outputs": []
    },
    {
      "cell_type": "code",
      "source": [
        "from sklearn.neighbors import KNeighborsClassifier\n",
        "knn = KNeighborsClassifier(n_neighbors=1, algorithm = 'brute', metric = floored_cosine_knn)\n",
        "knn.fit(labels_embeddings, labels)\n",
        "knn.predict(doc_embeddings)"
      ],
      "metadata": {
        "colab": {
          "base_uri": "https://localhost:8080/"
        },
        "id": "VbYU8o0aJTZn",
        "outputId": "9631bfdc-b3c6-4c78-e1a0-f8ab60145b5b"
      },
      "execution_count": 11,
      "outputs": [
        {
          "output_type": "execute_result",
          "data": {
            "text/plain": [
              "array(['Psychology', 'Computer Science', 'Electrical Engineering',\n",
              "       'Biochemistry', 'Biochemistry'], dtype='<U22')"
            ]
          },
          "metadata": {},
          "execution_count": 11
        }
      ]
    },
    {
      "cell_type": "markdown",
      "source": [
        "### Document embeddings with entropy calculation"
      ],
      "metadata": {
        "id": "CwfDhrCsw6rn"
      }
    },
    {
      "cell_type": "code",
      "source": [
        "import nltk\n",
        "nltk.download('punkt')\n",
        "import scipy\n",
        "import numpy as np"
      ],
      "metadata": {
        "colab": {
          "base_uri": "https://localhost:8080/"
        },
        "id": "oeyYN29m0xFn",
        "outputId": "641a3ad1-d11e-49d1-9fef-0e4198ce4f0a"
      },
      "execution_count": 12,
      "outputs": [
        {
          "output_type": "stream",
          "name": "stdout",
          "text": [
            "[nltk_data] Downloading package punkt to /root/nltk_data...\n",
            "[nltk_data]   Package punkt is already up-to-date!\n"
          ]
        }
      ]
    },
    {
      "cell_type": "code",
      "source": [
        "def floored_cosine(X, Y):\n",
        "  norm_x = X / np.linalg.norm(X, axis=1, keepdims=True)\n",
        "  norm_y = Y / np.linalg.norm(Y, axis=1, keepdims=True)\n",
        "  return np.maximum(0, np.matmul(norm_x, norm_y.T))\n",
        "\n",
        "def floored_cosine_tensors(X, Y):\n",
        "  sim = cos_sim(X, Y)\n",
        "  return np.maximum(0, sim)"
      ],
      "metadata": {
        "id": "phWgAVTsx-Ch"
      },
      "execution_count": 13,
      "outputs": []
    },
    {
      "cell_type": "code",
      "source": [
        "def get_entropies(sentences, labels_embeddings):\n",
        "  # probs = [[floored_cosine_knn(s, y) for y in labels_embeddings] for s in sentences]\n",
        "  # probs = floored_cosine(sentences, labels_embeddings)\n",
        "  probs = floored_cosine_tensors(sentences, labels_embeddings)\n",
        "  normalized_probs = probs/np.linalg.norm(probs)\n",
        "  normalized_entropy = scipy.stats.entropy(normalized_probs, axis = 1)/np.log(labels_embeddings.shape[0])\n",
        "  return 1 - normalized_entropy"
      ],
      "metadata": {
        "id": "qlRzBr3EaW-9"
      },
      "execution_count": 14,
      "outputs": []
    },
    {
      "cell_type": "code",
      "source": [
        "docs = []\n",
        "for abs in abstracts[:5]:\n",
        "  sentences = nltk.tokenize.sent_tokenize(abs)\n",
        "  sent_embs = model.encode(sentences)\n",
        "  entropies = get_entropies(sent_embs, labels_embeddings)\n",
        "  docs.append(np.dot(entropies, sent_embs)/sum(entropies))\n",
        "\n",
        "docs_embeddings = np.array(docs) # shape (num_docs, 768)"
      ],
      "metadata": {
        "id": "TgpSL0cHZFW-"
      },
      "execution_count": 15,
      "outputs": []
    },
    {
      "cell_type": "code",
      "source": [
        "knn = KNeighborsClassifier(n_neighbors=1, algorithm = 'brute', metric = floored_cosine_knn)\n",
        "knn.fit(labels_embeddings, labels)\n",
        "knn.predict(docs_embeddings) # almost the same results obtained without entropy "
      ],
      "metadata": {
        "colab": {
          "base_uri": "https://localhost:8080/"
        },
        "id": "FOQqbBApu5sl",
        "outputId": "3c21af00-9d78-43d1-b669-f801865c67d3"
      },
      "execution_count": 16,
      "outputs": [
        {
          "output_type": "execute_result",
          "data": {
            "text/plain": [
              "array(['Psychology', 'Computer Science', 'Mechanical Engineering',\n",
              "       'Biochemistry', 'Biochemistry'], dtype='<U22')"
            ]
          },
          "metadata": {},
          "execution_count": 16
        }
      ]
    }
  ]
}